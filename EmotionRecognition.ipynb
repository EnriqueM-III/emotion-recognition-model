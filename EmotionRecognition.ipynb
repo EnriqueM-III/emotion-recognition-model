{
 "cells": [
  {
   "cell_type": "markdown",
   "metadata": {},
   "source": [
    "IMPORTANT Libraries\n",
    "1. %pip install soundfile\n",
    "2. %pip install librosa\n",
    "3. %pip install sklearn\n",
    "\n",
    "if not using anaconda\n",
    "1. %pip install pandas\n",
    "2. %pip install numpy"
   ]
  },
  {
   "cell_type": "markdown",
   "metadata": {},
   "source": [
    "# Import Libraries"
   ]
  },
  {
   "cell_type": "code",
   "execution_count": 86,
   "metadata": {},
   "outputs": [],
   "source": [
    "\n",
    "import matplotlib.pyplot as plt\n",
    "import librosa.display\n",
    "import librosa\n",
    "from IPython.display import Audio\n",
    "import soundfile\n",
    "\n",
    "import os, glob, pickle\n",
    "import pandas as pd\n",
    "import numpy as np\n",
    "\n",
    "import warnings\n",
    "\n"
   ]
  },
  {
   "cell_type": "code",
   "execution_count": 87,
   "metadata": {},
   "outputs": [],
   "source": [
    "from sklearn.model_selection import train_test_split\n",
    "from sklearn.neural_network import MLPClassifier\n",
    "from sklearn.metrics import accuracy_score"
   ]
  },
  {
   "cell_type": "code",
   "execution_count": 88,
   "metadata": {},
   "outputs": [],
   "source": [
    "from keras.models import Sequential\n",
    "from keras.layers import Dense, LSTM, Dropout"
   ]
  },
  {
   "cell_type": "code",
   "execution_count": 89,
   "metadata": {},
   "outputs": [],
   "source": [
    "from sklearn.preprocessing import OneHotEncoder"
   ]
  },
  {
   "cell_type": "code",
   "execution_count": 90,
   "metadata": {},
   "outputs": [],
   "source": [
    "dir_path = \"data\" #path of the dataset"
   ]
  },
  {
   "cell_type": "code",
   "execution_count": 91,
   "metadata": {},
   "outputs": [],
   "source": [
    "\n",
    "limit_path = 3000\n",
    "path_labels = [\n",
    "    (os.path.join(root, fileName), fileName.split('_')[-1].split('.')[0].lower())\n",
    "    for root, _, files in os.walk(dir_path)\n",
    "    for fileName in files\n",
    "]\n",
    "#append directory files to path and label it to emotions\n",
    "path = [item[0] for item in path_labels[:limit_path]]\n",
    "labels = [item[1] for item in path_labels[:limit_path]]"
   ]
  },
  {
   "cell_type": "code",
   "execution_count": 92,
   "metadata": {},
   "outputs": [
    {
     "name": "stdout",
     "output_type": "stream",
     "text": [
      "3000\n"
     ]
    }
   ],
   "source": [
    "print(len(path)) #show how many data appended to path"
   ]
  },
  {
   "cell_type": "code",
   "execution_count": 93,
   "metadata": {},
   "outputs": [
    {
     "data": {
      "text/html": [
       "<div>\n",
       "<style scoped>\n",
       "    .dataframe tbody tr th:only-of-type {\n",
       "        vertical-align: middle;\n",
       "    }\n",
       "\n",
       "    .dataframe tbody tr th {\n",
       "        vertical-align: top;\n",
       "    }\n",
       "\n",
       "    .dataframe thead th {\n",
       "        text-align: right;\n",
       "    }\n",
       "</style>\n",
       "<table border=\"1\" class=\"dataframe\">\n",
       "  <thead>\n",
       "    <tr style=\"text-align: right;\">\n",
       "      <th></th>\n",
       "      <th>voice</th>\n",
       "      <th>label</th>\n",
       "    </tr>\n",
       "  </thead>\n",
       "  <tbody>\n",
       "    <tr>\n",
       "      <th>0</th>\n",
       "      <td>data\\TESS Toronto emotional speech set data\\OA...</td>\n",
       "      <td>angry</td>\n",
       "    </tr>\n",
       "    <tr>\n",
       "      <th>1</th>\n",
       "      <td>data\\TESS Toronto emotional speech set data\\OA...</td>\n",
       "      <td>angry</td>\n",
       "    </tr>\n",
       "    <tr>\n",
       "      <th>2</th>\n",
       "      <td>data\\TESS Toronto emotional speech set data\\OA...</td>\n",
       "      <td>angry</td>\n",
       "    </tr>\n",
       "    <tr>\n",
       "      <th>3</th>\n",
       "      <td>data\\TESS Toronto emotional speech set data\\OA...</td>\n",
       "      <td>angry</td>\n",
       "    </tr>\n",
       "    <tr>\n",
       "      <th>4</th>\n",
       "      <td>data\\TESS Toronto emotional speech set data\\OA...</td>\n",
       "      <td>angry</td>\n",
       "    </tr>\n",
       "  </tbody>\n",
       "</table>\n",
       "</div>"
      ],
      "text/plain": [
       "                                               voice  label\n",
       "0  data\\TESS Toronto emotional speech set data\\OA...  angry\n",
       "1  data\\TESS Toronto emotional speech set data\\OA...  angry\n",
       "2  data\\TESS Toronto emotional speech set data\\OA...  angry\n",
       "3  data\\TESS Toronto emotional speech set data\\OA...  angry\n",
       "4  data\\TESS Toronto emotional speech set data\\OA...  angry"
      ]
     },
     "execution_count": 93,
     "metadata": {},
     "output_type": "execute_result"
    }
   ],
   "source": [
    "\n",
    "#split the data, put path to voice and put labels to label\n",
    "dataFrame = pd.DataFrame()\n",
    "dataFrame['voice'] = path\n",
    "dataFrame['label'] = labels\n",
    "dataFrame.head()"
   ]
  },
  {
   "cell_type": "code",
   "execution_count": 94,
   "metadata": {},
   "outputs": [],
   "source": [
    "#get the filename value and convert it to array\n",
    "def extract_features(filename):\n",
    "    #load each audio file\n",
    "    y, sr = librosa.load(filename, duration=3, offset=0.5)\n",
    "    features = librosa.feature.mfcc(y=y, sr=sr, n_mfcc=40)\n",
    "    feature = np.mean(features.T, axis=0)\n",
    "    return feature"
   ]
  },
  {
   "cell_type": "code",
   "execution_count": 95,
   "metadata": {},
   "outputs": [
    {
     "data": {
      "text/plain": [
       "'data\\\\TESS Toronto emotional speech set data\\\\OAF_angry\\\\OAF_back_angry.wav'"
      ]
     },
     "execution_count": 95,
     "metadata": {},
     "output_type": "execute_result"
    }
   ],
   "source": [
    "dataFrame['voice'][0]"
   ]
  },
  {
   "cell_type": "code",
   "execution_count": 96,
   "metadata": {},
   "outputs": [
    {
     "data": {
      "text/plain": [
       "array([-3.96986206e+02,  7.74405365e+01, -1.95927906e+01, -2.16666889e+01,\n",
       "       -2.11275506e+00,  1.00753632e+01, -2.03667068e+01, -6.09244919e+00,\n",
       "       -7.21228361e+00, -5.57365894e-01, -1.83255327e+00,  2.02101514e-01,\n",
       "        7.27550924e-01,  1.31773770e+00,  2.88633752e+00,  2.85579133e+00,\n",
       "       -4.71292162e+00, -4.43651056e+00, -1.62115920e+00, -1.02398405e+01,\n",
       "       -7.55126286e+00, -1.79688025e+00, -7.03765202e+00,  9.43658447e+00,\n",
       "        8.35585499e+00,  2.17123604e+01,  1.92169895e+01,  2.03489265e+01,\n",
       "        1.34133663e+01,  8.33917141e+00,  3.94722492e-01,  5.11131430e+00,\n",
       "        9.56873894e+00,  5.45486784e+00,  2.50996351e+00, -1.82390726e+00,\n",
       "        4.86896276e+00,  9.31392288e+00,  2.08915019e+00, -1.90649128e+00],\n",
       "      dtype=float32)"
      ]
     },
     "execution_count": 96,
     "metadata": {},
     "output_type": "execute_result"
    }
   ],
   "source": [
    "extract_features(dataFrame['voice'][0]) #convert audio to array"
   ]
  },
  {
   "cell_type": "code",
   "execution_count": 97,
   "metadata": {},
   "outputs": [],
   "source": [
    "#extract the feature\n",
    "extractedFeature = dataFrame['voice'].apply(lambda x: extract_features(x))"
   ]
  },
  {
   "cell_type": "code",
   "execution_count": 98,
   "metadata": {},
   "outputs": [],
   "source": [
    "#put extractedFeature to X var\n",
    "X = [x for x in extractedFeature]\n",
    "X = np.array(X)"
   ]
  },
  {
   "cell_type": "code",
   "execution_count": 99,
   "metadata": {},
   "outputs": [
    {
     "data": {
      "text/plain": [
       "array([[-396.9862   ,   77.44054  ,  -19.59279  , ...,    9.313923 ,\n",
       "           2.0891502,   -1.9064913],\n",
       "       [-465.73267  ,   98.77373  ,    0.6560087, ...,    8.680707 ,\n",
       "           4.173659 ,    3.258969 ],\n",
       "       [-429.79196  ,   46.124    ,    1.5550478, ...,    8.633682 ,\n",
       "          -2.4228284,   -2.3461313],\n",
       "       ...,\n",
       "       [-388.13867  ,   89.549866 ,   -8.770162 , ...,    3.188786 ,\n",
       "           1.1894811,    3.012036 ],\n",
       "       [-416.2373   ,   82.35466  ,   -7.3276567, ...,    1.4389644,\n",
       "           1.7771133,    2.3168864],\n",
       "       [-405.30157  ,   94.39902  ,  -11.80957  , ...,    2.657818 ,\n",
       "           3.0098572,    4.547935 ]], dtype=float32)"
      ]
     },
     "execution_count": 99,
     "metadata": {},
     "output_type": "execute_result"
    }
   ],
   "source": [
    "X"
   ]
  },
  {
   "cell_type": "code",
   "execution_count": 100,
   "metadata": {},
   "outputs": [
    {
     "name": "stderr",
     "output_type": "stream",
     "text": [
      "c:\\Users\\Japh\\AppData\\Local\\Programs\\Python\\Python310\\lib\\site-packages\\sklearn\\preprocessing\\_encoders.py:975: FutureWarning: `sparse` was renamed to `sparse_output` in version 1.2 and will be removed in 1.4. `sparse_output` is ignored unless you leave `sparse` to its default value.\n",
      "  warnings.warn(\n"
     ]
    }
   ],
   "source": [
    "X = np.expand_dims(X, -1)\n",
    "# Using OneHotEncoder on the 'label' column of the DataFrame\n",
    "enc = OneHotEncoder(sparse=False)\n",
    "y = enc.fit_transform(dataFrame[['label']])\n",
    "\n",
    "# Now, X and y are ready for further processing\n",
    "# using fit transform to differenciate the labels and voice"
   ]
  },
  {
   "cell_type": "markdown",
   "metadata": {},
   "source": [
    "# MODEL"
   ]
  },
  {
   "cell_type": "code",
   "execution_count": 101,
   "metadata": {},
   "outputs": [],
   "source": [
    "#for complex simplicity, use sequential \n",
    "# using sequential model (Keras) so it's easier, in comparison to other models that require complexity\n",
    "model = Sequential([\n",
    "    LSTM(256, return_sequences=False, input_shape=(40,1)),\n",
    "    Dropout(0.2),\n",
    "    Dense(128, activation='relu'),\n",
    "    Dropout(0.2),\n",
    "    Dense(64, activation='relu'),\n",
    "    Dropout(0.2),\n",
    "    Dense(7, activation='softmax')\n",
    "])"
   ]
  },
  {
   "cell_type": "code",
   "execution_count": 102,
   "metadata": {},
   "outputs": [
    {
     "name": "stdout",
     "output_type": "stream",
     "text": [
      "WARNING:tensorflow:From c:\\Users\\Japh\\AppData\\Local\\Programs\\Python\\Python310\\lib\\site-packages\\keras\\src\\optimizers\\__init__.py:309: The name tf.train.Optimizer is deprecated. Please use tf.compat.v1.train.Optimizer instead.\n",
      "\n"
     ]
    }
   ],
   "source": [
    "model.compile(loss='categorical_crossentropy', optimizer='adam', metrics=['accuracy']) #compiles the data"
   ]
  },
  {
   "cell_type": "code",
   "execution_count": 103,
   "metadata": {},
   "outputs": [
    {
     "name": "stdout",
     "output_type": "stream",
     "text": [
      "Model: \"sequential\"\n",
      "_________________________________________________________________\n",
      " Layer (type)                Output Shape              Param #   \n",
      "=================================================================\n",
      " lstm_5 (LSTM)               (None, 256)               264192    \n",
      "                                                                 \n",
      " dropout_15 (Dropout)        (None, 256)               0         \n",
      "                                                                 \n",
      " dense_15 (Dense)            (None, 128)               32896     \n",
      "                                                                 \n",
      " dropout_16 (Dropout)        (None, 128)               0         \n",
      "                                                                 \n",
      " dense_16 (Dense)            (None, 64)                8256      \n",
      "                                                                 \n",
      " dropout_17 (Dropout)        (None, 64)                0         \n",
      "                                                                 \n",
      " dense_17 (Dense)            (None, 7)                 455       \n",
      "                                                                 \n",
      "=================================================================\n",
      "Total params: 305799 (1.17 MB)\n",
      "Trainable params: 305799 (1.17 MB)\n",
      "Non-trainable params: 0 (0.00 Byte)\n",
      "_________________________________________________________________\n"
     ]
    }
   ],
   "source": [
    "model.summary() # displays a summary of the model"
   ]
  },
  {
   "cell_type": "markdown",
   "metadata": {},
   "source": [
    "# Train"
   ]
  },
  {
   "cell_type": "code",
   "execution_count": 104,
   "metadata": {},
   "outputs": [
    {
     "name": "stdout",
     "output_type": "stream",
     "text": [
      "Epoch 1/200\n",
      "WARNING:tensorflow:From c:\\Users\\Japh\\AppData\\Local\\Programs\\Python\\Python310\\lib\\site-packages\\keras\\src\\utils\\tf_utils.py:492: The name tf.ragged.RaggedTensorValue is deprecated. Please use tf.compat.v1.ragged.RaggedTensorValue instead.\n",
      "\n",
      "WARNING:tensorflow:From c:\\Users\\Japh\\AppData\\Local\\Programs\\Python\\Python310\\lib\\site-packages\\keras\\src\\engine\\base_layer_utils.py:384: The name tf.executing_eagerly_outside_functions is deprecated. Please use tf.compat.v1.executing_eagerly_outside_functions instead.\n",
      "\n",
      "38/38 [==============================] - 9s 133ms/step - loss: 0.9739 - accuracy: 0.6567 - val_loss: 1.0060 - val_accuracy: 0.5733\n",
      "Epoch 2/200\n",
      "38/38 [==============================] - 4s 100ms/step - loss: 0.3429 - accuracy: 0.8954 - val_loss: 0.4025 - val_accuracy: 0.8483\n",
      "Epoch 3/200\n",
      "38/38 [==============================] - 3s 89ms/step - loss: 0.2218 - accuracy: 0.9333 - val_loss: 0.2820 - val_accuracy: 0.9167\n",
      "Epoch 4/200\n",
      "38/38 [==============================] - 4s 94ms/step - loss: 0.1409 - accuracy: 0.9554 - val_loss: 0.2023 - val_accuracy: 0.9317\n",
      "Epoch 5/200\n",
      "38/38 [==============================] - 3s 89ms/step - loss: 0.1249 - accuracy: 0.9633 - val_loss: 0.3327 - val_accuracy: 0.8850\n",
      "Epoch 6/200\n",
      "38/38 [==============================] - 3s 91ms/step - loss: 0.0876 - accuracy: 0.9746 - val_loss: 0.4675 - val_accuracy: 0.8583\n",
      "Epoch 7/200\n",
      "38/38 [==============================] - 4s 96ms/step - loss: 0.0582 - accuracy: 0.9829 - val_loss: 0.3103 - val_accuracy: 0.9067\n",
      "Epoch 8/200\n",
      "38/38 [==============================] - 4s 93ms/step - loss: 0.0726 - accuracy: 0.9775 - val_loss: 0.4002 - val_accuracy: 0.8817\n",
      "Epoch 9/200\n",
      "38/38 [==============================] - 4s 104ms/step - loss: 0.0490 - accuracy: 0.9875 - val_loss: 0.4164 - val_accuracy: 0.9067\n",
      "Epoch 10/200\n",
      "38/38 [==============================] - 4s 105ms/step - loss: 0.0717 - accuracy: 0.9808 - val_loss: 0.7899 - val_accuracy: 0.7900\n",
      "Epoch 11/200\n",
      "38/38 [==============================] - 4s 104ms/step - loss: 0.0513 - accuracy: 0.9833 - val_loss: 0.5788 - val_accuracy: 0.8350\n",
      "Epoch 12/200\n",
      "38/38 [==============================] - 4s 107ms/step - loss: 0.0590 - accuracy: 0.9842 - val_loss: 0.6356 - val_accuracy: 0.8383\n",
      "Epoch 13/200\n",
      "38/38 [==============================] - 4s 99ms/step - loss: 0.0419 - accuracy: 0.9892 - val_loss: 0.3974 - val_accuracy: 0.8967\n",
      "Epoch 14/200\n",
      "38/38 [==============================] - 4s 93ms/step - loss: 0.0426 - accuracy: 0.9883 - val_loss: 0.3945 - val_accuracy: 0.8950\n",
      "Epoch 15/200\n",
      "38/38 [==============================] - 4s 106ms/step - loss: 0.0484 - accuracy: 0.9850 - val_loss: 0.3103 - val_accuracy: 0.9150\n",
      "Epoch 16/200\n",
      "38/38 [==============================] - 4s 100ms/step - loss: 0.0400 - accuracy: 0.9875 - val_loss: 0.4988 - val_accuracy: 0.8650\n",
      "Epoch 17/200\n",
      "38/38 [==============================] - 4s 107ms/step - loss: 0.0629 - accuracy: 0.9804 - val_loss: 0.3484 - val_accuracy: 0.9133\n",
      "Epoch 18/200\n",
      "38/38 [==============================] - 4s 96ms/step - loss: 0.0813 - accuracy: 0.9754 - val_loss: 0.3174 - val_accuracy: 0.9183\n",
      "Epoch 19/200\n",
      "38/38 [==============================] - 4s 99ms/step - loss: 0.0409 - accuracy: 0.9879 - val_loss: 0.4118 - val_accuracy: 0.8850\n",
      "Epoch 20/200\n",
      "38/38 [==============================] - 4s 99ms/step - loss: 0.0353 - accuracy: 0.9883 - val_loss: 0.6786 - val_accuracy: 0.8567\n",
      "Epoch 21/200\n",
      "38/38 [==============================] - 4s 99ms/step - loss: 0.0328 - accuracy: 0.9879 - val_loss: 0.3767 - val_accuracy: 0.9167\n",
      "Epoch 22/200\n",
      "38/38 [==============================] - 3s 89ms/step - loss: 0.0289 - accuracy: 0.9908 - val_loss: 0.6224 - val_accuracy: 0.8617\n",
      "Epoch 23/200\n",
      "38/38 [==============================] - 3s 84ms/step - loss: 0.0219 - accuracy: 0.9921 - val_loss: 0.5021 - val_accuracy: 0.8933\n",
      "Epoch 24/200\n",
      "38/38 [==============================] - 4s 94ms/step - loss: 0.0145 - accuracy: 0.9954 - val_loss: 0.3322 - val_accuracy: 0.9367\n",
      "Epoch 25/200\n",
      "38/38 [==============================] - 4s 93ms/step - loss: 0.0113 - accuracy: 0.9967 - val_loss: 0.3297 - val_accuracy: 0.9300\n",
      "Epoch 26/200\n",
      "38/38 [==============================] - 4s 97ms/step - loss: 0.0126 - accuracy: 0.9962 - val_loss: 0.4096 - val_accuracy: 0.9433\n",
      "Epoch 27/200\n",
      "38/38 [==============================] - 3s 86ms/step - loss: 0.0121 - accuracy: 0.9958 - val_loss: 0.4995 - val_accuracy: 0.9233\n",
      "Epoch 28/200\n",
      "38/38 [==============================] - 3s 86ms/step - loss: 0.0175 - accuracy: 0.9946 - val_loss: 0.7751 - val_accuracy: 0.8667\n",
      "Epoch 29/200\n",
      "38/38 [==============================] - 3s 89ms/step - loss: 0.0191 - accuracy: 0.9954 - val_loss: 0.5300 - val_accuracy: 0.9050\n",
      "Epoch 30/200\n",
      "38/38 [==============================] - 3s 90ms/step - loss: 0.0057 - accuracy: 0.9979 - val_loss: 0.5738 - val_accuracy: 0.9150\n",
      "Epoch 31/200\n",
      "38/38 [==============================] - 4s 96ms/step - loss: 0.0020 - accuracy: 1.0000 - val_loss: 0.5792 - val_accuracy: 0.9083\n",
      "Epoch 32/200\n",
      "38/38 [==============================] - 4s 95ms/step - loss: 0.0073 - accuracy: 0.9967 - val_loss: 0.3524 - val_accuracy: 0.9400\n",
      "Epoch 33/200\n",
      "38/38 [==============================] - 4s 109ms/step - loss: 0.0265 - accuracy: 0.9925 - val_loss: 0.4689 - val_accuracy: 0.9133\n",
      "Epoch 34/200\n",
      "38/38 [==============================] - 4s 111ms/step - loss: 0.0185 - accuracy: 0.9933 - val_loss: 0.3187 - val_accuracy: 0.9433\n",
      "Epoch 35/200\n",
      "38/38 [==============================] - 5s 120ms/step - loss: 0.0162 - accuracy: 0.9929 - val_loss: 0.5704 - val_accuracy: 0.8583\n",
      "Epoch 36/200\n",
      "38/38 [==============================] - 4s 96ms/step - loss: 0.0150 - accuracy: 0.9958 - val_loss: 0.4377 - val_accuracy: 0.9117\n",
      "Epoch 37/200\n",
      "38/38 [==============================] - 3s 83ms/step - loss: 0.0135 - accuracy: 0.9958 - val_loss: 0.3255 - val_accuracy: 0.9400\n",
      "Epoch 38/200\n",
      "38/38 [==============================] - 4s 100ms/step - loss: 0.0809 - accuracy: 0.9779 - val_loss: 0.2587 - val_accuracy: 0.9350\n",
      "Epoch 39/200\n",
      "38/38 [==============================] - 4s 96ms/step - loss: 0.0281 - accuracy: 0.9908 - val_loss: 0.4260 - val_accuracy: 0.9200\n",
      "Epoch 40/200\n",
      "38/38 [==============================] - 3s 87ms/step - loss: 0.0098 - accuracy: 0.9971 - val_loss: 0.5431 - val_accuracy: 0.8917\n",
      "Epoch 41/200\n",
      "38/38 [==============================] - 3s 88ms/step - loss: 0.0084 - accuracy: 0.9987 - val_loss: 0.5360 - val_accuracy: 0.8967\n",
      "Epoch 42/200\n",
      "38/38 [==============================] - 4s 93ms/step - loss: 0.0025 - accuracy: 0.9992 - val_loss: 0.4881 - val_accuracy: 0.9133\n",
      "Epoch 43/200\n",
      "38/38 [==============================] - 4s 109ms/step - loss: 0.0012 - accuracy: 1.0000 - val_loss: 0.5482 - val_accuracy: 0.9083\n",
      "Epoch 44/200\n",
      "38/38 [==============================] - 4s 103ms/step - loss: 4.6205e-04 - accuracy: 1.0000 - val_loss: 0.5215 - val_accuracy: 0.9117\n",
      "Epoch 45/200\n",
      "38/38 [==============================] - 4s 96ms/step - loss: 3.5272e-04 - accuracy: 1.0000 - val_loss: 0.5246 - val_accuracy: 0.9183\n",
      "Epoch 46/200\n",
      "38/38 [==============================] - 4s 100ms/step - loss: 3.0825e-04 - accuracy: 1.0000 - val_loss: 0.5279 - val_accuracy: 0.9183\n",
      "Epoch 47/200\n",
      "38/38 [==============================] - 3s 90ms/step - loss: 3.3216e-04 - accuracy: 1.0000 - val_loss: 0.5256 - val_accuracy: 0.9183\n",
      "Epoch 48/200\n",
      "38/38 [==============================] - 4s 110ms/step - loss: 2.2310e-04 - accuracy: 1.0000 - val_loss: 0.5374 - val_accuracy: 0.9183\n",
      "Epoch 49/200\n",
      "38/38 [==============================] - 4s 112ms/step - loss: 2.1687e-04 - accuracy: 1.0000 - val_loss: 0.5418 - val_accuracy: 0.9167\n",
      "Epoch 50/200\n",
      "38/38 [==============================] - 4s 114ms/step - loss: 1.5096e-04 - accuracy: 1.0000 - val_loss: 0.5532 - val_accuracy: 0.9150\n",
      "Epoch 51/200\n",
      "38/38 [==============================] - 4s 116ms/step - loss: 1.4163e-04 - accuracy: 1.0000 - val_loss: 0.5520 - val_accuracy: 0.9183\n",
      "Epoch 52/200\n",
      "38/38 [==============================] - 4s 114ms/step - loss: 1.2406e-04 - accuracy: 1.0000 - val_loss: 0.5633 - val_accuracy: 0.9183\n",
      "Epoch 53/200\n",
      "38/38 [==============================] - 5s 129ms/step - loss: 1.7322e-04 - accuracy: 1.0000 - val_loss: 0.5673 - val_accuracy: 0.9183\n",
      "Epoch 54/200\n",
      "38/38 [==============================] - 4s 103ms/step - loss: 2.1035e-04 - accuracy: 1.0000 - val_loss: 0.5793 - val_accuracy: 0.9150\n",
      "Epoch 55/200\n",
      "38/38 [==============================] - 3s 88ms/step - loss: 9.3178e-05 - accuracy: 1.0000 - val_loss: 0.5824 - val_accuracy: 0.9150\n",
      "Epoch 56/200\n",
      "38/38 [==============================] - 4s 94ms/step - loss: 1.7028e-04 - accuracy: 1.0000 - val_loss: 0.6024 - val_accuracy: 0.9167\n",
      "Epoch 57/200\n",
      "38/38 [==============================] - 4s 104ms/step - loss: 1.1358e-04 - accuracy: 1.0000 - val_loss: 0.6049 - val_accuracy: 0.9150\n",
      "Epoch 58/200\n",
      "38/38 [==============================] - 4s 93ms/step - loss: 9.8037e-05 - accuracy: 1.0000 - val_loss: 0.6280 - val_accuracy: 0.9133\n",
      "Epoch 59/200\n",
      "38/38 [==============================] - 4s 97ms/step - loss: 1.3409e-04 - accuracy: 1.0000 - val_loss: 0.6206 - val_accuracy: 0.9133\n",
      "Epoch 60/200\n",
      "38/38 [==============================] - 4s 94ms/step - loss: 1.1747e-04 - accuracy: 1.0000 - val_loss: 0.6104 - val_accuracy: 0.9133\n",
      "Epoch 61/200\n",
      "38/38 [==============================] - 5s 126ms/step - loss: 7.6963e-05 - accuracy: 1.0000 - val_loss: 0.6180 - val_accuracy: 0.9150\n",
      "Epoch 62/200\n",
      "38/38 [==============================] - 4s 100ms/step - loss: 7.0729e-05 - accuracy: 1.0000 - val_loss: 0.6214 - val_accuracy: 0.9150\n",
      "Epoch 63/200\n",
      "38/38 [==============================] - 4s 93ms/step - loss: 9.2171e-05 - accuracy: 1.0000 - val_loss: 0.6271 - val_accuracy: 0.9150\n",
      "Epoch 64/200\n",
      "38/38 [==============================] - 3s 87ms/step - loss: 5.2108e-05 - accuracy: 1.0000 - val_loss: 0.6320 - val_accuracy: 0.9150\n",
      "Epoch 65/200\n",
      "38/38 [==============================] - 3s 86ms/step - loss: 1.6912e-04 - accuracy: 1.0000 - val_loss: 0.6437 - val_accuracy: 0.9117\n",
      "Epoch 66/200\n",
      "38/38 [==============================] - 3s 90ms/step - loss: 9.3608e-05 - accuracy: 1.0000 - val_loss: 0.6640 - val_accuracy: 0.9117\n",
      "Epoch 67/200\n",
      "38/38 [==============================] - 3s 87ms/step - loss: 7.3374e-05 - accuracy: 1.0000 - val_loss: 0.6727 - val_accuracy: 0.9133\n",
      "Epoch 68/200\n",
      "38/38 [==============================] - 3s 90ms/step - loss: 5.8157e-05 - accuracy: 1.0000 - val_loss: 0.6796 - val_accuracy: 0.9133\n",
      "Epoch 69/200\n",
      "38/38 [==============================] - 4s 99ms/step - loss: 6.9000e-05 - accuracy: 1.0000 - val_loss: 0.6851 - val_accuracy: 0.9133\n",
      "Epoch 70/200\n",
      "38/38 [==============================] - 3s 87ms/step - loss: 4.4725e-05 - accuracy: 1.0000 - val_loss: 0.6894 - val_accuracy: 0.9133\n",
      "Epoch 71/200\n",
      "38/38 [==============================] - 4s 93ms/step - loss: 5.5360e-05 - accuracy: 1.0000 - val_loss: 0.6978 - val_accuracy: 0.9133\n",
      "Epoch 72/200\n",
      "38/38 [==============================] - 4s 93ms/step - loss: 5.2236e-05 - accuracy: 1.0000 - val_loss: 0.7106 - val_accuracy: 0.9117\n",
      "Epoch 73/200\n",
      "38/38 [==============================] - 4s 97ms/step - loss: 3.7421e-05 - accuracy: 1.0000 - val_loss: 0.7074 - val_accuracy: 0.9133\n",
      "Epoch 74/200\n",
      "38/38 [==============================] - 3s 90ms/step - loss: 2.3472e-05 - accuracy: 1.0000 - val_loss: 0.7071 - val_accuracy: 0.9133\n",
      "Epoch 75/200\n",
      "38/38 [==============================] - 5s 127ms/step - loss: 2.9002e-05 - accuracy: 1.0000 - val_loss: 0.7030 - val_accuracy: 0.9133\n",
      "Epoch 76/200\n",
      "38/38 [==============================] - 4s 106ms/step - loss: 5.0663e-05 - accuracy: 1.0000 - val_loss: 0.7053 - val_accuracy: 0.9150\n",
      "Epoch 77/200\n",
      "38/38 [==============================] - 3s 90ms/step - loss: 2.8316e-05 - accuracy: 1.0000 - val_loss: 0.7047 - val_accuracy: 0.9150\n",
      "Epoch 78/200\n",
      "38/38 [==============================] - 3s 90ms/step - loss: 7.4357e-05 - accuracy: 1.0000 - val_loss: 0.7009 - val_accuracy: 0.9150\n",
      "Epoch 79/200\n",
      "38/38 [==============================] - 3s 87ms/step - loss: 3.1418e-05 - accuracy: 1.0000 - val_loss: 0.6941 - val_accuracy: 0.9150\n",
      "Epoch 80/200\n",
      "38/38 [==============================] - 5s 121ms/step - loss: 3.6113e-05 - accuracy: 1.0000 - val_loss: 0.6961 - val_accuracy: 0.9150\n",
      "Epoch 81/200\n",
      "38/38 [==============================] - 4s 100ms/step - loss: 4.4990e-05 - accuracy: 1.0000 - val_loss: 0.6977 - val_accuracy: 0.9150\n",
      "Epoch 82/200\n",
      "38/38 [==============================] - 4s 107ms/step - loss: 2.9140e-05 - accuracy: 1.0000 - val_loss: 0.7077 - val_accuracy: 0.9150\n",
      "Epoch 83/200\n",
      "38/38 [==============================] - 4s 99ms/step - loss: 2.8316e-05 - accuracy: 1.0000 - val_loss: 0.7089 - val_accuracy: 0.9150\n",
      "Epoch 84/200\n",
      "38/38 [==============================] - 4s 100ms/step - loss: 2.7243e-05 - accuracy: 1.0000 - val_loss: 0.7197 - val_accuracy: 0.9133\n",
      "Epoch 85/200\n",
      "38/38 [==============================] - 4s 99ms/step - loss: 1.9924e-05 - accuracy: 1.0000 - val_loss: 0.7248 - val_accuracy: 0.9133\n",
      "Epoch 86/200\n",
      "38/38 [==============================] - 4s 103ms/step - loss: 2.6881e-05 - accuracy: 1.0000 - val_loss: 0.7256 - val_accuracy: 0.9150\n",
      "Epoch 87/200\n",
      "38/38 [==============================] - 4s 117ms/step - loss: 2.9919e-05 - accuracy: 1.0000 - val_loss: 0.7223 - val_accuracy: 0.9150\n",
      "Epoch 88/200\n",
      "38/38 [==============================] - 4s 100ms/step - loss: 4.2392e-05 - accuracy: 1.0000 - val_loss: 0.7308 - val_accuracy: 0.9150\n",
      "Epoch 89/200\n",
      "38/38 [==============================] - 4s 107ms/step - loss: 2.1277e-05 - accuracy: 1.0000 - val_loss: 0.7326 - val_accuracy: 0.9150\n",
      "Epoch 90/200\n",
      "38/38 [==============================] - 4s 112ms/step - loss: 3.5439e-05 - accuracy: 1.0000 - val_loss: 0.7303 - val_accuracy: 0.9150\n",
      "Epoch 91/200\n",
      "38/38 [==============================] - 4s 110ms/step - loss: 3.9545e-05 - accuracy: 1.0000 - val_loss: 0.7324 - val_accuracy: 0.9150\n",
      "Epoch 92/200\n",
      "38/38 [==============================] - 3s 75ms/step - loss: 2.4797e-05 - accuracy: 1.0000 - val_loss: 0.7342 - val_accuracy: 0.9150\n",
      "Epoch 93/200\n",
      "38/38 [==============================] - 3s 81ms/step - loss: 1.6733e-05 - accuracy: 1.0000 - val_loss: 0.7369 - val_accuracy: 0.9150\n",
      "Epoch 94/200\n",
      "38/38 [==============================] - 2s 65ms/step - loss: 1.7428e-05 - accuracy: 1.0000 - val_loss: 0.7372 - val_accuracy: 0.9150\n",
      "Epoch 95/200\n",
      "38/38 [==============================] - 3s 68ms/step - loss: 5.6985e-05 - accuracy: 1.0000 - val_loss: 0.7400 - val_accuracy: 0.9133\n",
      "Epoch 96/200\n",
      "38/38 [==============================] - 2s 65ms/step - loss: 2.1301e-05 - accuracy: 1.0000 - val_loss: 0.7454 - val_accuracy: 0.9133\n",
      "Epoch 97/200\n",
      "38/38 [==============================] - 3s 67ms/step - loss: 1.8330e-05 - accuracy: 1.0000 - val_loss: 0.7472 - val_accuracy: 0.9133\n",
      "Epoch 98/200\n",
      "38/38 [==============================] - 3s 71ms/step - loss: 5.0112e-05 - accuracy: 1.0000 - val_loss: 0.7632 - val_accuracy: 0.9133\n",
      "Epoch 99/200\n",
      "38/38 [==============================] - 3s 66ms/step - loss: 1.1341e-04 - accuracy: 1.0000 - val_loss: 0.7662 - val_accuracy: 0.9133\n",
      "Epoch 100/200\n",
      "38/38 [==============================] - 2s 65ms/step - loss: 4.3717e-05 - accuracy: 1.0000 - val_loss: 0.7625 - val_accuracy: 0.9100\n",
      "Epoch 101/200\n",
      "38/38 [==============================] - 2s 62ms/step - loss: 2.1799e-05 - accuracy: 1.0000 - val_loss: 0.7869 - val_accuracy: 0.9067\n",
      "Epoch 102/200\n",
      "38/38 [==============================] - 2s 63ms/step - loss: 1.6719e-05 - accuracy: 1.0000 - val_loss: 0.7913 - val_accuracy: 0.9067\n",
      "Epoch 103/200\n",
      "38/38 [==============================] - 3s 69ms/step - loss: 1.8780e-05 - accuracy: 1.0000 - val_loss: 0.7911 - val_accuracy: 0.9067\n",
      "Epoch 104/200\n",
      "38/38 [==============================] - 2s 63ms/step - loss: 1.3430e-05 - accuracy: 1.0000 - val_loss: 0.7831 - val_accuracy: 0.9050\n",
      "Epoch 105/200\n",
      "38/38 [==============================] - 2s 64ms/step - loss: 1.3613e-05 - accuracy: 1.0000 - val_loss: 0.7846 - val_accuracy: 0.9050\n",
      "Epoch 106/200\n",
      "38/38 [==============================] - 3s 72ms/step - loss: 6.0169e-05 - accuracy: 1.0000 - val_loss: 0.7624 - val_accuracy: 0.9033\n",
      "Epoch 107/200\n",
      "38/38 [==============================] - 3s 69ms/step - loss: 3.4369e-05 - accuracy: 1.0000 - val_loss: 0.7789 - val_accuracy: 0.9050\n",
      "Epoch 108/200\n",
      "38/38 [==============================] - 2s 65ms/step - loss: 1.9497e-05 - accuracy: 1.0000 - val_loss: 0.7787 - val_accuracy: 0.9050\n",
      "Epoch 109/200\n",
      "38/38 [==============================] - 2s 64ms/step - loss: 1.6709e-05 - accuracy: 1.0000 - val_loss: 0.7825 - val_accuracy: 0.9050\n",
      "Epoch 110/200\n",
      "38/38 [==============================] - 2s 66ms/step - loss: 6.1050e-06 - accuracy: 1.0000 - val_loss: 0.7830 - val_accuracy: 0.9050\n",
      "Epoch 111/200\n",
      "38/38 [==============================] - 3s 78ms/step - loss: 8.5234e-06 - accuracy: 1.0000 - val_loss: 0.7835 - val_accuracy: 0.9050\n",
      "Epoch 112/200\n",
      "38/38 [==============================] - 4s 99ms/step - loss: 1.4497e-05 - accuracy: 1.0000 - val_loss: 0.7834 - val_accuracy: 0.9050\n",
      "Epoch 113/200\n",
      "38/38 [==============================] - 3s 90ms/step - loss: 6.4179e-06 - accuracy: 1.0000 - val_loss: 0.7818 - val_accuracy: 0.9050\n",
      "Epoch 114/200\n",
      "38/38 [==============================] - 3s 88ms/step - loss: 7.6285e-06 - accuracy: 1.0000 - val_loss: 0.7809 - val_accuracy: 0.9050\n",
      "Epoch 115/200\n",
      "38/38 [==============================] - 3s 89ms/step - loss: 5.0567e-06 - accuracy: 1.0000 - val_loss: 0.7807 - val_accuracy: 0.9050\n",
      "Epoch 116/200\n",
      "38/38 [==============================] - 3s 88ms/step - loss: 1.5340e-05 - accuracy: 1.0000 - val_loss: 0.7763 - val_accuracy: 0.9067\n",
      "Epoch 117/200\n",
      "38/38 [==============================] - 3s 89ms/step - loss: 1.0510e-05 - accuracy: 1.0000 - val_loss: 0.7781 - val_accuracy: 0.9083\n",
      "Epoch 118/200\n",
      "38/38 [==============================] - 3s 88ms/step - loss: 1.1936e-05 - accuracy: 1.0000 - val_loss: 0.7750 - val_accuracy: 0.9083\n",
      "Epoch 119/200\n",
      "38/38 [==============================] - 3s 86ms/step - loss: 4.4835e-06 - accuracy: 1.0000 - val_loss: 0.7774 - val_accuracy: 0.9083\n",
      "Epoch 120/200\n",
      "38/38 [==============================] - 3s 84ms/step - loss: 1.4284e-05 - accuracy: 1.0000 - val_loss: 0.7909 - val_accuracy: 0.9083\n",
      "Epoch 121/200\n",
      "38/38 [==============================] - 3s 86ms/step - loss: 1.5385e-05 - accuracy: 1.0000 - val_loss: 0.7820 - val_accuracy: 0.9133\n",
      "Epoch 122/200\n",
      "38/38 [==============================] - 3s 86ms/step - loss: 2.8783e-05 - accuracy: 1.0000 - val_loss: 0.7746 - val_accuracy: 0.9150\n",
      "Epoch 123/200\n",
      "38/38 [==============================] - 3s 87ms/step - loss: 1.4507e-05 - accuracy: 1.0000 - val_loss: 0.7612 - val_accuracy: 0.9150\n",
      "Epoch 124/200\n",
      "38/38 [==============================] - 5s 121ms/step - loss: 1.9074e-05 - accuracy: 1.0000 - val_loss: 0.7379 - val_accuracy: 0.9117\n",
      "Epoch 125/200\n",
      "38/38 [==============================] - 4s 116ms/step - loss: 5.6120e-06 - accuracy: 1.0000 - val_loss: 0.7489 - val_accuracy: 0.9133\n",
      "Epoch 126/200\n",
      "38/38 [==============================] - 4s 98ms/step - loss: 5.5280e-06 - accuracy: 1.0000 - val_loss: 0.7509 - val_accuracy: 0.9133\n",
      "Epoch 127/200\n",
      "38/38 [==============================] - 4s 98ms/step - loss: 9.0201e-06 - accuracy: 1.0000 - val_loss: 0.7532 - val_accuracy: 0.9133\n",
      "Epoch 128/200\n",
      "38/38 [==============================] - 4s 99ms/step - loss: 1.2446e-05 - accuracy: 1.0000 - val_loss: 0.7569 - val_accuracy: 0.9117\n",
      "Epoch 129/200\n",
      "38/38 [==============================] - 4s 96ms/step - loss: 7.3569e-06 - accuracy: 1.0000 - val_loss: 0.7632 - val_accuracy: 0.9100\n",
      "Epoch 130/200\n",
      "38/38 [==============================] - 4s 97ms/step - loss: 9.4118e-06 - accuracy: 1.0000 - val_loss: 0.7671 - val_accuracy: 0.9117\n",
      "Epoch 131/200\n",
      "38/38 [==============================] - 4s 107ms/step - loss: 5.5928e-06 - accuracy: 1.0000 - val_loss: 0.7643 - val_accuracy: 0.9100\n",
      "Epoch 132/200\n",
      "38/38 [==============================] - 4s 102ms/step - loss: 6.2437e-06 - accuracy: 1.0000 - val_loss: 0.7669 - val_accuracy: 0.9117\n",
      "Epoch 133/200\n",
      "38/38 [==============================] - 4s 108ms/step - loss: 5.6514e-06 - accuracy: 1.0000 - val_loss: 0.7668 - val_accuracy: 0.9100\n",
      "Epoch 134/200\n",
      "38/38 [==============================] - 5s 120ms/step - loss: 7.4065e-06 - accuracy: 1.0000 - val_loss: 0.7716 - val_accuracy: 0.9117\n",
      "Epoch 135/200\n",
      "38/38 [==============================] - 4s 109ms/step - loss: 6.0697e-06 - accuracy: 1.0000 - val_loss: 0.7736 - val_accuracy: 0.9100\n",
      "Epoch 136/200\n",
      "38/38 [==============================] - 4s 99ms/step - loss: 1.4303e-05 - accuracy: 1.0000 - val_loss: 0.7747 - val_accuracy: 0.9100\n",
      "Epoch 137/200\n",
      "38/38 [==============================] - 4s 101ms/step - loss: 5.7352e-06 - accuracy: 1.0000 - val_loss: 0.7825 - val_accuracy: 0.9100\n",
      "Epoch 138/200\n",
      "38/38 [==============================] - 4s 109ms/step - loss: 6.3635e-06 - accuracy: 1.0000 - val_loss: 0.7876 - val_accuracy: 0.9133\n",
      "Epoch 139/200\n",
      "38/38 [==============================] - 5s 130ms/step - loss: 6.1196e-06 - accuracy: 1.0000 - val_loss: 0.7873 - val_accuracy: 0.9133\n",
      "Epoch 140/200\n",
      "38/38 [==============================] - 5s 141ms/step - loss: 1.3308e-05 - accuracy: 1.0000 - val_loss: 0.7825 - val_accuracy: 0.9133\n",
      "Epoch 141/200\n",
      "38/38 [==============================] - 5s 142ms/step - loss: 8.4139e-06 - accuracy: 1.0000 - val_loss: 0.7860 - val_accuracy: 0.9133\n",
      "Epoch 142/200\n",
      "38/38 [==============================] - 4s 118ms/step - loss: 5.0207e-06 - accuracy: 1.0000 - val_loss: 0.7905 - val_accuracy: 0.9133\n",
      "Epoch 143/200\n",
      "38/38 [==============================] - 4s 113ms/step - loss: 5.3740e-06 - accuracy: 1.0000 - val_loss: 0.7952 - val_accuracy: 0.9133\n",
      "Epoch 144/200\n",
      "38/38 [==============================] - 4s 115ms/step - loss: 2.0322e-05 - accuracy: 1.0000 - val_loss: 0.8524 - val_accuracy: 0.9150\n",
      "Epoch 145/200\n",
      "38/38 [==============================] - 5s 127ms/step - loss: 4.1405e-06 - accuracy: 1.0000 - val_loss: 0.8787 - val_accuracy: 0.9117\n",
      "Epoch 146/200\n",
      "38/38 [==============================] - 4s 112ms/step - loss: 3.8246e-06 - accuracy: 1.0000 - val_loss: 0.8782 - val_accuracy: 0.9133\n",
      "Epoch 147/200\n",
      "38/38 [==============================] - 4s 115ms/step - loss: 2.5089e-06 - accuracy: 1.0000 - val_loss: 0.8763 - val_accuracy: 0.9133\n",
      "Epoch 148/200\n",
      "38/38 [==============================] - 5s 121ms/step - loss: 8.1835e-06 - accuracy: 1.0000 - val_loss: 0.8766 - val_accuracy: 0.9133\n",
      "Epoch 149/200\n",
      "38/38 [==============================] - 5s 120ms/step - loss: 4.4994e-06 - accuracy: 1.0000 - val_loss: 0.8748 - val_accuracy: 0.9133\n",
      "Epoch 150/200\n",
      "38/38 [==============================] - 5s 136ms/step - loss: 2.3615e-06 - accuracy: 1.0000 - val_loss: 0.8747 - val_accuracy: 0.9133\n",
      "Epoch 151/200\n",
      "38/38 [==============================] - 6s 147ms/step - loss: 4.4802e-06 - accuracy: 1.0000 - val_loss: 0.8673 - val_accuracy: 0.9133\n",
      "Epoch 152/200\n",
      "38/38 [==============================] - 8s 218ms/step - loss: 3.7517e-05 - accuracy: 1.0000 - val_loss: 0.8876 - val_accuracy: 0.9117\n",
      "Epoch 153/200\n",
      "38/38 [==============================] - 6s 164ms/step - loss: 4.8321e-06 - accuracy: 1.0000 - val_loss: 0.8890 - val_accuracy: 0.9117\n",
      "Epoch 154/200\n",
      "38/38 [==============================] - 7s 180ms/step - loss: 1.7432e-05 - accuracy: 1.0000 - val_loss: 0.8852 - val_accuracy: 0.9117\n",
      "Epoch 155/200\n",
      "38/38 [==============================] - 7s 195ms/step - loss: 2.6517e-06 - accuracy: 1.0000 - val_loss: 0.8716 - val_accuracy: 0.9117\n",
      "Epoch 156/200\n",
      "38/38 [==============================] - 5s 125ms/step - loss: 6.2366e-06 - accuracy: 1.0000 - val_loss: 0.8626 - val_accuracy: 0.9117\n",
      "Epoch 157/200\n",
      "38/38 [==============================] - 5s 141ms/step - loss: 1.3762e-06 - accuracy: 1.0000 - val_loss: 0.8622 - val_accuracy: 0.9117\n",
      "Epoch 158/200\n",
      "38/38 [==============================] - 4s 118ms/step - loss: 5.3474e-06 - accuracy: 1.0000 - val_loss: 0.8663 - val_accuracy: 0.9117\n",
      "Epoch 159/200\n",
      "38/38 [==============================] - 4s 118ms/step - loss: 3.0485e-06 - accuracy: 1.0000 - val_loss: 0.8683 - val_accuracy: 0.9117\n",
      "Epoch 160/200\n",
      "38/38 [==============================] - 5s 121ms/step - loss: 2.8852e-06 - accuracy: 1.0000 - val_loss: 0.8696 - val_accuracy: 0.9117\n",
      "Epoch 161/200\n",
      "38/38 [==============================] - 5s 144ms/step - loss: 3.2043e-06 - accuracy: 1.0000 - val_loss: 0.8696 - val_accuracy: 0.9117\n",
      "Epoch 162/200\n",
      "38/38 [==============================] - 8s 214ms/step - loss: 1.4588e-06 - accuracy: 1.0000 - val_loss: 0.8690 - val_accuracy: 0.9117\n",
      "Epoch 163/200\n",
      "38/38 [==============================] - 9s 250ms/step - loss: 4.4692e-06 - accuracy: 1.0000 - val_loss: 0.8707 - val_accuracy: 0.9117\n",
      "Epoch 164/200\n",
      "38/38 [==============================] - 10s 257ms/step - loss: 5.5539e-06 - accuracy: 1.0000 - val_loss: 0.8715 - val_accuracy: 0.9117\n",
      "Epoch 165/200\n",
      "38/38 [==============================] - 9s 228ms/step - loss: 1.3110e-06 - accuracy: 1.0000 - val_loss: 0.8724 - val_accuracy: 0.9117\n",
      "Epoch 166/200\n",
      "38/38 [==============================] - 8s 220ms/step - loss: 4.3046e-06 - accuracy: 1.0000 - val_loss: 0.8731 - val_accuracy: 0.9117\n",
      "Epoch 167/200\n",
      "38/38 [==============================] - 7s 180ms/step - loss: 3.1111e-06 - accuracy: 1.0000 - val_loss: 0.8782 - val_accuracy: 0.9117\n",
      "Epoch 168/200\n",
      "38/38 [==============================] - 8s 222ms/step - loss: 4.6275e-06 - accuracy: 1.0000 - val_loss: 0.8881 - val_accuracy: 0.9117\n",
      "Epoch 169/200\n",
      "38/38 [==============================] - 10s 254ms/step - loss: 2.1648e-06 - accuracy: 1.0000 - val_loss: 0.8881 - val_accuracy: 0.9117\n",
      "Epoch 170/200\n",
      "38/38 [==============================] - 8s 204ms/step - loss: 1.2456e-06 - accuracy: 1.0000 - val_loss: 0.8892 - val_accuracy: 0.9117\n",
      "Epoch 171/200\n",
      "38/38 [==============================] - 5s 132ms/step - loss: 2.9961e-06 - accuracy: 1.0000 - val_loss: 0.8909 - val_accuracy: 0.9117\n",
      "Epoch 172/200\n",
      "38/38 [==============================] - 6s 155ms/step - loss: 8.0169e-06 - accuracy: 1.0000 - val_loss: 0.9356 - val_accuracy: 0.9117\n",
      "Epoch 173/200\n",
      "38/38 [==============================] - 6s 157ms/step - loss: 8.8000e-06 - accuracy: 1.0000 - val_loss: 0.9210 - val_accuracy: 0.9150\n",
      "Epoch 174/200\n",
      "38/38 [==============================] - 7s 179ms/step - loss: 3.5133e-06 - accuracy: 1.0000 - val_loss: 0.9119 - val_accuracy: 0.9150\n",
      "Epoch 175/200\n",
      "38/38 [==============================] - 6s 171ms/step - loss: 3.7747e-06 - accuracy: 1.0000 - val_loss: 0.9071 - val_accuracy: 0.9150\n",
      "Epoch 176/200\n",
      "38/38 [==============================] - 6s 160ms/step - loss: 1.5815e-06 - accuracy: 1.0000 - val_loss: 0.9064 - val_accuracy: 0.9150\n",
      "Epoch 177/200\n",
      "38/38 [==============================] - 6s 149ms/step - loss: 3.6973e-06 - accuracy: 1.0000 - val_loss: 0.9105 - val_accuracy: 0.9150\n",
      "Epoch 178/200\n",
      "38/38 [==============================] - 5s 141ms/step - loss: 4.1783e-06 - accuracy: 1.0000 - val_loss: 0.9161 - val_accuracy: 0.9150\n",
      "Epoch 179/200\n",
      "38/38 [==============================] - 6s 148ms/step - loss: 1.8911e-06 - accuracy: 1.0000 - val_loss: 0.9136 - val_accuracy: 0.9150\n",
      "Epoch 180/200\n",
      "38/38 [==============================] - 6s 155ms/step - loss: 7.8240e-06 - accuracy: 1.0000 - val_loss: 0.9004 - val_accuracy: 0.9133\n",
      "Epoch 181/200\n",
      "38/38 [==============================] - 6s 146ms/step - loss: 2.0370e-06 - accuracy: 1.0000 - val_loss: 0.8965 - val_accuracy: 0.9133\n",
      "Epoch 182/200\n",
      "38/38 [==============================] - 5s 138ms/step - loss: 9.0427e-07 - accuracy: 1.0000 - val_loss: 0.8968 - val_accuracy: 0.9133\n",
      "Epoch 183/200\n",
      "38/38 [==============================] - 5s 143ms/step - loss: 2.4007e-06 - accuracy: 1.0000 - val_loss: 0.8999 - val_accuracy: 0.9133\n",
      "Epoch 184/200\n",
      "38/38 [==============================] - 5s 139ms/step - loss: 1.6129e-06 - accuracy: 1.0000 - val_loss: 0.9004 - val_accuracy: 0.9133\n",
      "Epoch 185/200\n",
      "38/38 [==============================] - 6s 149ms/step - loss: 4.2693e-06 - accuracy: 1.0000 - val_loss: 0.9180 - val_accuracy: 0.9133\n",
      "Epoch 186/200\n",
      "38/38 [==============================] - 6s 158ms/step - loss: 1.7724e-06 - accuracy: 1.0000 - val_loss: 0.9650 - val_accuracy: 0.9117\n",
      "Epoch 187/200\n",
      "38/38 [==============================] - 6s 156ms/step - loss: 2.6559e-06 - accuracy: 1.0000 - val_loss: 0.9591 - val_accuracy: 0.9133\n",
      "Epoch 188/200\n",
      "38/38 [==============================] - 6s 147ms/step - loss: 1.1336e-06 - accuracy: 1.0000 - val_loss: 0.9584 - val_accuracy: 0.9133\n",
      "Epoch 189/200\n",
      "38/38 [==============================] - 5s 137ms/step - loss: 2.5901e-06 - accuracy: 1.0000 - val_loss: 0.9575 - val_accuracy: 0.9133\n",
      "Epoch 190/200\n",
      "38/38 [==============================] - 5s 144ms/step - loss: 1.1838e-06 - accuracy: 1.0000 - val_loss: 0.9592 - val_accuracy: 0.9133\n",
      "Epoch 191/200\n",
      "38/38 [==============================] - 6s 151ms/step - loss: 2.5823e-06 - accuracy: 1.0000 - val_loss: 0.9583 - val_accuracy: 0.9117\n",
      "Epoch 192/200\n",
      "38/38 [==============================] - 5s 144ms/step - loss: 7.8426e-06 - accuracy: 1.0000 - val_loss: 0.9567 - val_accuracy: 0.9117\n",
      "Epoch 193/200\n",
      "38/38 [==============================] - 6s 148ms/step - loss: 2.1753e-06 - accuracy: 1.0000 - val_loss: 0.9577 - val_accuracy: 0.9100\n",
      "Epoch 194/200\n",
      "38/38 [==============================] - 6s 157ms/step - loss: 3.6302e-06 - accuracy: 1.0000 - val_loss: 0.9650 - val_accuracy: 0.9100\n",
      "Epoch 195/200\n",
      "38/38 [==============================] - 7s 188ms/step - loss: 9.3758e-07 - accuracy: 1.0000 - val_loss: 0.9695 - val_accuracy: 0.9100\n",
      "Epoch 196/200\n",
      "38/38 [==============================] - 7s 182ms/step - loss: 2.1392e-06 - accuracy: 1.0000 - val_loss: 0.9768 - val_accuracy: 0.9100\n",
      "Epoch 197/200\n",
      "38/38 [==============================] - 7s 182ms/step - loss: 4.0704e-06 - accuracy: 1.0000 - val_loss: 0.9950 - val_accuracy: 0.9117\n",
      "Epoch 198/200\n",
      "38/38 [==============================] - 7s 174ms/step - loss: 1.6484e-06 - accuracy: 1.0000 - val_loss: 0.9882 - val_accuracy: 0.9083\n",
      "Epoch 199/200\n",
      "38/38 [==============================] - 7s 173ms/step - loss: 8.9892e-07 - accuracy: 1.0000 - val_loss: 0.9902 - val_accuracy: 0.9117\n",
      "Epoch 200/200\n",
      "38/38 [==============================] - 8s 208ms/step - loss: 1.4962e-06 - accuracy: 1.0000 - val_loss: 0.9956 - val_accuracy: 0.9117\n"
     ]
    }
   ],
   "source": [
    "#train the model\n",
    "hist = model.fit(X, y, validation_split=0.2, epochs=200, batch_size=64) #trains the iteranation of each and every data \n",
    "# epoch = number of steps to train the data"
   ]
  },
  {
   "cell_type": "markdown",
   "metadata": {},
   "source": [
    "# Visualization"
   ]
  },
  {
   "cell_type": "code",
   "execution_count": 105,
   "metadata": {},
   "outputs": [
    {
     "data": {
      "image/png": "[encoded data removed]",
      "text/plain": [
       "<Figure size 640x480 with 1 Axes>"
      ]
     },
     "metadata": {},
     "output_type": "display_data"
    }
   ],
   "source": [
    "\n",
    "# Plot training and validation accuracy over epochs\n",
    "plt.plot(hist.history['accuracy'], label='Training Accuracy')\n",
    "plt.plot(hist.history['val_accuracy'], label='Validation Accuracy')\n",
    "plt.title('Training and Validation Accuracy')\n",
    "plt.xlabel('Epochs')\n",
    "plt.ylabel('Accuracy')\n",
    "plt.legend()\n",
    "plt.show()\n"
   ]
  },
  {
   "cell_type": "code",
   "execution_count": 106,
   "metadata": {},
   "outputs": [
    {
     "data": {
      "image/png": "[encoded data removed]",
      "text/plain": [
       "<Figure size 640x480 with 1 Axes>"
      ]
     },
     "metadata": {},
     "output_type": "display_data"
    }
   ],
   "source": [
    "# Plot training and validation loss over epochs\n",
    "plt.plot(hist.history['loss'], label='Training Loss')\n",
    "plt.plot(hist.history['val_loss'], label='Validation Loss')\n",
    "plt.title('Training and Validation Loss')\n",
    "plt.xlabel('Epochs')\n",
    "plt.ylabel('Loss')\n",
    "plt.legend()\n",
    "plt.show()"
   ]
  },
  {
   "cell_type": "markdown",
   "metadata": {},
   "source": [
    "# Prediction"
   ]
  },
  {
   "cell_type": "code",
   "execution_count": 107,
   "metadata": {},
   "outputs": [],
   "source": [
    "def predict_sound(model, filename):\n",
    "    #this reshapes the data and fit to the prediction model as new audio data.\n",
    "    try:\n",
    "        # Suppress UserWarning from librosa\n",
    "        with warnings.catch_warnings():\n",
    "            warnings.simplefilter(\"ignore\")\n",
    "\n",
    "            # Extract features for the new sound file\n",
    "            new_audio_data = extract_features(filename)\n",
    "            print(\"Extracted features:\", new_audio_data)\n",
    "\n",
    "        if new_audio_data is not None: \n",
    "            # Reshape the data to match the model input shape\n",
    "            new_audio_data = np.expand_dims(new_audio_data, axis=0)\n",
    "            new_audio_data = np.expand_dims(new_audio_data, axis=-1)\n",
    "            # Make predictions\n",
    "            predictions = model.predict(new_audio_data)\n",
    "            print(\"Predictions:\", predictions)\n",
    "            # Get the predicted class (index with the highest probability)\n",
    "            predicted_class = np.argmax(predictions)\n",
    "            print(\"Predicted Class:\", predicted_class)\n",
    "            # Map the predicted class to a label\n",
    "            class_labels = ['angry', 'disgust', 'fear', 'happy', 'neutral', 'Pleasant Surprise', 'Sad']\n",
    "            predicted_label = class_labels[predicted_class]\n",
    "\n",
    "            return predicted_label\n",
    "        else:\n",
    "            return \"Error extracting features\"\n",
    "\n",
    "    except Exception as e:\n",
    "        return f\"Error predicting sound: {e}\"\n",
    "    \n",
    "    "
   ]
  },
  {
   "cell_type": "markdown",
   "metadata": {},
   "source": [
    "# Final Result"
   ]
  },
  {
   "cell_type": "code",
   "execution_count": 127,
   "metadata": {},
   "outputs": [
    {
     "name": "stdout",
     "output_type": "stream",
     "text": [
      "Extracted features: [-2.54645325e+02  1.45675369e+02 -1.67530785e+01  3.81944084e+01\n",
      " -9.82955742e+00 -3.36175728e+01 -3.71456337e+00  1.92356339e+01\n",
      " -1.66621132e+01 -8.28026581e+00 -8.44459534e+00 -2.08358879e+01\n",
      " -3.67635942e+00 -6.47616673e+00  1.27175255e+01  6.54220200e+00\n",
      " -6.39505053e+00 -2.43110865e-01 -1.16341114e+01 -7.09680557e+00\n",
      " -1.07610397e+01 -6.55283165e+00  1.42712450e+00 -1.06724348e+01\n",
      " -7.15684128e+00 -5.80762529e+00 -1.39538646e+00 -2.85378623e+00\n",
      "  6.25145864e+00  1.25923481e+01  5.54337692e+00  1.65338783e+01\n",
      "  1.32765360e+01  6.66318035e+00  3.72614717e+00 -4.38655734e-01\n",
      " -4.87937832e+00 -4.43296003e+00 -3.09313202e+00 -3.91786695e+00]\n",
      "1/1 [==============================] - 0s 57ms/step\n",
      "Predictions: [[1.4507319e-04 2.6110521e-07 9.9984837e-01 1.3036829e-07 7.9070890e-07\n",
      "  7.3608156e-08 5.2408341e-06]]\n",
      "Predicted Class: 2\n",
      "Predicted Label: fear\n"
     ]
    }
   ],
   "source": [
    "#Finalize result\n",
    "Sound_tester = \"WhatsApp Ptt 2024-01-14 at 12.24.30 AM.wav\"\n",
    "predicted_label = predict_sound(model, Sound_tester)\n",
    "print(\"Predicted Label:\", predicted_label)"
   ]
  },
  {
   "cell_type": "code",
   "execution_count": null,
   "metadata": {},
   "outputs": [],
   "source": [
    "#This code save the model file so it can be used on other codes(assessments)\n",
    "import pickle\n",
    "# Writing different model files to file\n",
    "with open( 'AudioEmotionRecognizer.sav', 'wb') as f:\n",
    "    pickle.dump(model,f)"
   ]
  },
  {
   "cell_type": "code",
   "execution_count": 129,
   "metadata": {},
   "outputs": [
    {
     "name": "stdout",
     "output_type": "stream",
     "text": [
      "running\n",
      "Extracted features: [-7.0500928e+02  4.8671391e+01 -1.8221840e+01  2.3807789e+01\n",
      "  2.1381739e+01  5.5849028e-01 -1.2913293e+00  9.6056855e-01\n",
      "  7.1894157e-01  8.8360853e+00  8.5579205e+00  4.6758690e+00\n",
      " -1.9376011e+00 -6.3013798e-01 -4.9571857e-01  8.5122728e+00\n",
      "  4.2146453e-01 -3.6159616e+00 -4.1351094e+00  5.5241756e+00\n",
      " -1.0843856e+00  3.3537402e+00  1.3561969e+00  5.1621828e+00\n",
      " -4.4888778e+00  2.5285327e+00  1.1793001e+00  5.6469131e-02\n",
      " -4.7998638e+00  3.5058777e+00  2.4366349e-01  2.7543490e+00\n",
      " -3.2371268e+00  3.0097232e+00 -3.5036838e-01  2.6768379e+00\n",
      "  5.1976061e-01  6.6295953e+00 -3.6736872e+00  6.9021338e-01]\n",
      "1/1 [==============================] - 1s 632ms/step\n",
      "Predictions: [[6.9133769e-04 9.9054539e-01 8.4666382e-05 4.2522693e-04 1.2119470e-04\n",
      "  2.1459861e-04 7.9176500e-03]]\n",
      "Predicted Class: 1\n",
      "Predicted Label: disgust\n"
     ]
    }
   ],
   "source": [
    "import speech_recognition as sr\n",
    "r = sr.Recognizer()\n",
    "\n",
    "with sr.Microphone() as src:\n",
    "    audio = r.listen(src)\n",
    "    print(\"running\")\n",
    "    with open ('testaudio/aaa.wav', 'wb') as f:\n",
    "        f.write(audio.get_wav_data())\n",
    "\n",
    "filename = 'AudioEmotionRecognizer.sav'\n",
    "loaded_model = pickle.load(open(filename, 'rb')) # loading the model file from the storage\n",
    "feature=predict_sound(loaded_model, \"testaudio/aaa.wav\")\n",
    "print(\"Predicted Label:\", feature)"
   ]
  },
  {
   "cell_type": "code",
   "execution_count": null,
   "metadata": {},
   "outputs": [],
   "source": []
  },
  {
   "cell_type": "code",
   "execution_count": null,
   "metadata": {},
   "outputs": [],
   "source": []
  }
 ],
 "metadata": {
  "kernelspec": {
   "display_name": "deeplearning",
   "language": "python",
   "name": "python3"
  },
  "language_info": {
   "codemirror_mode": {
    "name": "ipython",
    "version": 3
   },
   "file_extension": ".py",
   "mimetype": "text/x-python",
   "name": "python",
   "nbconvert_exporter": "python",
   "pygments_lexer": "ipython3",
   "version": "3.11.4"
  }
 },
 "nbformat": 4,
 "nbformat_minor": 2
}
